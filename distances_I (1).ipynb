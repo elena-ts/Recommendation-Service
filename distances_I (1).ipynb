{
  "cells": [
    {
      "cell_type": "markdown",
      "metadata": {
        "id": "8JJdMN-QVgz1"
      },
      "source": [
        "## Задание 1   Открой файл [distances.ipynb](src/notebooks/distances.ipynb).\n",
        "* Объедини общие данные о фильмах [tmdb_5000_movies](https://files.sberdisk.ru/s/te4QbzdxKgsFQXA) и каст фильмов\n",
        "[tmdb_5000_credits](https://files.sberdisk.ru/s/H9oRuXQt5mFz3T9).\n",
        "* Оставь в датасете только фильмы, которые вышли в \"релиз\".\n",
        "* Убери фильмы с пропусками в колонках ['overview', 'genres', 'keywords']\n",
        "* Выведи количество фильмов, оставшихся в выборке"
      ]
    },
    {
      "cell_type": "code",
      "execution_count": null,
      "metadata": {
        "id": "XzNPwwYOVGKE",
        "colab": {
          "base_uri": "https://localhost:8080/"
        },
        "outputId": "8e67ee01-342d-42f8-9cb6-09657d012fa6"
      },
      "outputs": [
        {
          "output_type": "stream",
          "name": "stdout",
          "text": [
            "Количество фильмов: (4792, 23)\n"
          ]
        }
      ],
      "source": [
        "import pandas as pd\n",
        "\n",
        "\n",
        "movies = pd.read_csv(\"/content/tmdb_5000_movies.csv\")\n",
        "credits = pd.read_csv(\"/content/tmdb_5000_credits.csv\")\n",
        "\n",
        "\n",
        "mergeDf = pd.merge(movies, credits, left_on='id', right_on='movie_id')\n",
        "mergeDf.rename(columns={'title_x': 'title'}, inplace=True)\n",
        "mergeDf.drop('title_y', axis=1, inplace=True)\n",
        "\n",
        "\n",
        "filterDf = mergeDf[mergeDf['status'] == 'Released']\n",
        "\n",
        "filterDf = filterDf.dropna(subset=['overview', 'genres', 'keywords'])\n",
        "\n",
        "\n",
        "print(\"Количество фильмов:\", filterDf.shape)"
      ]
    },
    {
      "cell_type": "code",
      "source": [
        "import sys\n",
        "print(sys.version)"
      ],
      "metadata": {
        "colab": {
          "base_uri": "https://localhost:8080/"
        },
        "id": "Eg82V24GDcfN",
        "outputId": "25d43816-37f0-46af-9210-89578b638f69"
      },
      "execution_count": null,
      "outputs": [
        {
          "output_type": "stream",
          "name": "stdout",
          "text": [
            "3.10.12 (main, Jun  7 2023, 12:45:35) [GCC 9.4.0]\n"
          ]
        }
      ]
    },
    {
      "cell_type": "markdown",
      "metadata": {
        "id": "yjwvBxIoVvjj"
      },
      "source": [
        "## Задание 2    Реализуем алгоритм рекомендации на основе описания фильма (`overview`) и ключевых слов к фильму (`keywords`).\n",
        "Объедини тексты этих колонок и проведи предобработку:\n",
        "* Замени NaN в описании фильма на пустой символ `''`\n",
        "* Удали все английские стоп-слова (используй параметр `stop_words` в `TfidfVectorizer`)\n",
        "* Рассчитай матрицу [Tf-Idf](https://scikit-learn.org/stable/modules/generated/sklearn.feature_extraction.text.TfidfVectorizer.html) для описания фильмов.\n",
        "\n",
        "Выведи размер получившейся матрицы\n",
        "> Параметр `max_features` в `TfidfVectorizer` должен быть равен 10000"
      ]
    },
    {
      "cell_type": "code",
      "execution_count": null,
      "metadata": {
        "colab": {
          "base_uri": "https://localhost:8080/"
        },
        "id": "I2_VoMY5XxmP",
        "outputId": "6d434250-43dc-4929-e314-06b245a21e65"
      },
      "outputs": [
        {
          "output_type": "stream",
          "name": "stdout",
          "text": [
            "Requirement already satisfied: scikit-learn in /usr/local/lib/python3.10/dist-packages (1.2.2)\n",
            "Requirement already satisfied: numpy>=1.17.3 in /usr/local/lib/python3.10/dist-packages (from scikit-learn) (1.22.4)\n",
            "Requirement already satisfied: scipy>=1.3.2 in /usr/local/lib/python3.10/dist-packages (from scikit-learn) (1.10.1)\n",
            "Requirement already satisfied: joblib>=1.1.1 in /usr/local/lib/python3.10/dist-packages (from scikit-learn) (1.2.0)\n",
            "Requirement already satisfied: threadpoolctl>=2.0.0 in /usr/local/lib/python3.10/dist-packages (from scikit-learn) (3.1.0)\n"
          ]
        }
      ],
      "source": [
        "!pip install scikit-learn"
      ]
    },
    {
      "cell_type": "code",
      "execution_count": null,
      "metadata": {
        "id": "W8aR4hci9D8e"
      },
      "outputs": [],
      "source": [
        "from sklearn.feature_extraction.text import TfidfVectorizer, CountVectorizer\n",
        "from sklearn.decomposition import NMF, LatentDirichletAllocation\n",
        "import numpy as np"
      ]
    },
    {
      "cell_type": "code",
      "execution_count": null,
      "metadata": {
        "colab": {
          "base_uri": "https://localhost:8080/"
        },
        "id": "qa5gA6J74-c2",
        "outputId": "228b04d8-6765-44c0-c437-99cd79ad2d56"
      },
      "outputs": [
        {
          "output_type": "stream",
          "name": "stdout",
          "text": [
            "Размер матрицы Tf-Idf: (4792, 10000)\n"
          ]
        }
      ],
      "source": [
        "dfCopy2 = filterDf.copy()\n",
        "\n",
        "dfCopy2['overview'].fillna('', inplace=True)\n",
        "\n",
        "text_data = dfCopy2['overview'] + ' ' + dfCopy2['keywords']\n",
        "\n",
        "vectorizer = TfidfVectorizer(stop_words='english', max_features=10000)\n",
        "\n",
        "tfidf_matrix = vectorizer.fit_transform(text_data)\n",
        "\n",
        "\n",
        "print(\"Размер матрицы Tf-Idf:\", tfidf_matrix.shape)"
      ]
    },
    {
      "cell_type": "markdown",
      "metadata": {
        "id": "xwJgvHFCWYgz"
      },
      "source": [
        "## Задание 3  Рассчитай косинусное расстояние между фильмами. Составь из этой матрицы `pd.DataFrame`. Для дальнейшего удобства,\n",
        "колонки и индексы таблицы назови согласно`id` фильма. \\\n",
        "Сохрани получившийся `DataFrame` c расстояниями в папку [assets](src/assets) с названием `distance.csv`.\n",
        "А сам объединенный датасет с фильмами сохрани в папку [assets](src/assets) с названием `movies.csv`.\n",
        "\n",
        "> Получившиеся файлы `distance.csv` и `movies.csv` пушить в GitLab не нужно!\n"
      ]
    },
    {
      "cell_type": "code",
      "execution_count": null,
      "metadata": {
        "colab": {
          "base_uri": "https://localhost:8080/"
        },
        "id": "J3sZOZuMWjOS",
        "outputId": "d0c6559a-5bbd-437e-c202-647869a27977"
      },
      "outputs": [
        {
          "output_type": "execute_result",
          "data": {
            "text/plain": [
              "array([[1.        , 0.16160013, 0.08417271, ..., 0.06029947, 0.01025163,\n",
              "        0.04057541],\n",
              "       [0.16160013, 1.        , 0.0795629 , ..., 0.06733997, 0.        ,\n",
              "        0.03835326],\n",
              "       [0.08417271, 0.0795629 , 1.        , ..., 0.03939055, 0.        ,\n",
              "        0.02046046],\n",
              "       ...,\n",
              "       [0.06029947, 0.06733997, 0.03939055, ..., 1.        , 0.01632488,\n",
              "        0.03620626],\n",
              "       [0.01025163, 0.        , 0.        , ..., 0.01632488, 1.        ,\n",
              "        0.01202703],\n",
              "       [0.04057541, 0.03835326, 0.02046046, ..., 0.03620626, 0.01202703,\n",
              "        1.        ]])"
            ]
          },
          "metadata": {},
          "execution_count": 6
        }
      ],
      "source": [
        "from sklearn.metrics.pairwise import cosine_similarity\n",
        "\n",
        "\n",
        "cosine_sim = cosine_similarity(tfidf_matrix, tfidf_matrix)\n",
        "cosine_sim"
      ]
    },
    {
      "cell_type": "code",
      "execution_count": null,
      "metadata": {
        "colab": {
          "base_uri": "https://localhost:8080/"
        },
        "id": "z3p1-Bb2f-ya",
        "outputId": "d198077c-ba3b-4210-a598-f7f1e12f1e4e"
      },
      "outputs": [
        {
          "output_type": "execute_result",
          "data": {
            "text/plain": [
              "(4792, 4792)"
            ]
          },
          "metadata": {},
          "execution_count": 7
        }
      ],
      "source": [
        "cosine_sim.shape"
      ]
    },
    {
      "cell_type": "code",
      "execution_count": null,
      "metadata": {
        "colab": {
          "base_uri": "https://localhost:8080/",
          "height": 237
        },
        "id": "h_W5ZLJYf_Tu",
        "outputId": "c148fe61-badd-42ee-ea6a-6db0019f8edb"
      },
      "outputs": [
        {
          "output_type": "execute_result",
          "data": {
            "text/plain": [
              "id     19995   285       206647    49026     49529     559       38757   \\\n",
              "id                                                                        \n",
              "19995  1.0000  0.1616  0.084173  0.141075  0.290498  0.163335  0.109851   \n",
              "285    0.1616  1.0000  0.079563  0.134989  0.148862  0.155402  0.101430   \n",
              "\n",
              "id       99861     767       209112  ...    182291  286939    124606  \\\n",
              "id                                   ...                               \n",
              "19995  0.135357  0.096274  0.092502  ...  0.127258     0.0  0.062076   \n",
              "285    0.095819  0.091001  0.078926  ...  0.120289     0.0  0.056188   \n",
              "\n",
              "id       14337   67238     9367    72766     231617    126186    25975   \n",
              "id                                                                       \n",
              "19995  0.114813     0.0  0.043521     0.0  0.060299  0.010252  0.040575  \n",
              "285    0.085687     0.0  0.048129     0.0  0.067340  0.000000  0.038353  \n",
              "\n",
              "[2 rows x 4792 columns]"
            ],
            "text/html": [
              "\n",
              "  <div id=\"df-3dc4341a-66d8-47b4-b1b9-e5cb03fb0758\">\n",
              "    <div class=\"colab-df-container\">\n",
              "      <div>\n",
              "<style scoped>\n",
              "    .dataframe tbody tr th:only-of-type {\n",
              "        vertical-align: middle;\n",
              "    }\n",
              "\n",
              "    .dataframe tbody tr th {\n",
              "        vertical-align: top;\n",
              "    }\n",
              "\n",
              "    .dataframe thead th {\n",
              "        text-align: right;\n",
              "    }\n",
              "</style>\n",
              "<table border=\"1\" class=\"dataframe\">\n",
              "  <thead>\n",
              "    <tr style=\"text-align: right;\">\n",
              "      <th>id</th>\n",
              "      <th>19995</th>\n",
              "      <th>285</th>\n",
              "      <th>206647</th>\n",
              "      <th>49026</th>\n",
              "      <th>49529</th>\n",
              "      <th>559</th>\n",
              "      <th>38757</th>\n",
              "      <th>99861</th>\n",
              "      <th>767</th>\n",
              "      <th>209112</th>\n",
              "      <th>...</th>\n",
              "      <th>182291</th>\n",
              "      <th>286939</th>\n",
              "      <th>124606</th>\n",
              "      <th>14337</th>\n",
              "      <th>67238</th>\n",
              "      <th>9367</th>\n",
              "      <th>72766</th>\n",
              "      <th>231617</th>\n",
              "      <th>126186</th>\n",
              "      <th>25975</th>\n",
              "    </tr>\n",
              "    <tr>\n",
              "      <th>id</th>\n",
              "      <th></th>\n",
              "      <th></th>\n",
              "      <th></th>\n",
              "      <th></th>\n",
              "      <th></th>\n",
              "      <th></th>\n",
              "      <th></th>\n",
              "      <th></th>\n",
              "      <th></th>\n",
              "      <th></th>\n",
              "      <th></th>\n",
              "      <th></th>\n",
              "      <th></th>\n",
              "      <th></th>\n",
              "      <th></th>\n",
              "      <th></th>\n",
              "      <th></th>\n",
              "      <th></th>\n",
              "      <th></th>\n",
              "      <th></th>\n",
              "      <th></th>\n",
              "    </tr>\n",
              "  </thead>\n",
              "  <tbody>\n",
              "    <tr>\n",
              "      <th>19995</th>\n",
              "      <td>1.0000</td>\n",
              "      <td>0.1616</td>\n",
              "      <td>0.084173</td>\n",
              "      <td>0.141075</td>\n",
              "      <td>0.290498</td>\n",
              "      <td>0.163335</td>\n",
              "      <td>0.109851</td>\n",
              "      <td>0.135357</td>\n",
              "      <td>0.096274</td>\n",
              "      <td>0.092502</td>\n",
              "      <td>...</td>\n",
              "      <td>0.127258</td>\n",
              "      <td>0.0</td>\n",
              "      <td>0.062076</td>\n",
              "      <td>0.114813</td>\n",
              "      <td>0.0</td>\n",
              "      <td>0.043521</td>\n",
              "      <td>0.0</td>\n",
              "      <td>0.060299</td>\n",
              "      <td>0.010252</td>\n",
              "      <td>0.040575</td>\n",
              "    </tr>\n",
              "    <tr>\n",
              "      <th>285</th>\n",
              "      <td>0.1616</td>\n",
              "      <td>1.0000</td>\n",
              "      <td>0.079563</td>\n",
              "      <td>0.134989</td>\n",
              "      <td>0.148862</td>\n",
              "      <td>0.155402</td>\n",
              "      <td>0.101430</td>\n",
              "      <td>0.095819</td>\n",
              "      <td>0.091001</td>\n",
              "      <td>0.078926</td>\n",
              "      <td>...</td>\n",
              "      <td>0.120289</td>\n",
              "      <td>0.0</td>\n",
              "      <td>0.056188</td>\n",
              "      <td>0.085687</td>\n",
              "      <td>0.0</td>\n",
              "      <td>0.048129</td>\n",
              "      <td>0.0</td>\n",
              "      <td>0.067340</td>\n",
              "      <td>0.000000</td>\n",
              "      <td>0.038353</td>\n",
              "    </tr>\n",
              "  </tbody>\n",
              "</table>\n",
              "<p>2 rows × 4792 columns</p>\n",
              "</div>\n",
              "      <button class=\"colab-df-convert\" onclick=\"convertToInteractive('df-3dc4341a-66d8-47b4-b1b9-e5cb03fb0758')\"\n",
              "              title=\"Convert this dataframe to an interactive table.\"\n",
              "              style=\"display:none;\">\n",
              "        \n",
              "  <svg xmlns=\"http://www.w3.org/2000/svg\" height=\"24px\"viewBox=\"0 0 24 24\"\n",
              "       width=\"24px\">\n",
              "    <path d=\"M0 0h24v24H0V0z\" fill=\"none\"/>\n",
              "    <path d=\"M18.56 5.44l.94 2.06.94-2.06 2.06-.94-2.06-.94-.94-2.06-.94 2.06-2.06.94zm-11 1L8.5 8.5l.94-2.06 2.06-.94-2.06-.94L8.5 2.5l-.94 2.06-2.06.94zm10 10l.94 2.06.94-2.06 2.06-.94-2.06-.94-.94-2.06-.94 2.06-2.06.94z\"/><path d=\"M17.41 7.96l-1.37-1.37c-.4-.4-.92-.59-1.43-.59-.52 0-1.04.2-1.43.59L10.3 9.45l-7.72 7.72c-.78.78-.78 2.05 0 2.83L4 21.41c.39.39.9.59 1.41.59.51 0 1.02-.2 1.41-.59l7.78-7.78 2.81-2.81c.8-.78.8-2.07 0-2.86zM5.41 20L4 18.59l7.72-7.72 1.47 1.35L5.41 20z\"/>\n",
              "  </svg>\n",
              "      </button>\n",
              "      \n",
              "  <style>\n",
              "    .colab-df-container {\n",
              "      display:flex;\n",
              "      flex-wrap:wrap;\n",
              "      gap: 12px;\n",
              "    }\n",
              "\n",
              "    .colab-df-convert {\n",
              "      background-color: #E8F0FE;\n",
              "      border: none;\n",
              "      border-radius: 50%;\n",
              "      cursor: pointer;\n",
              "      display: none;\n",
              "      fill: #1967D2;\n",
              "      height: 32px;\n",
              "      padding: 0 0 0 0;\n",
              "      width: 32px;\n",
              "    }\n",
              "\n",
              "    .colab-df-convert:hover {\n",
              "      background-color: #E2EBFA;\n",
              "      box-shadow: 0px 1px 2px rgba(60, 64, 67, 0.3), 0px 1px 3px 1px rgba(60, 64, 67, 0.15);\n",
              "      fill: #174EA6;\n",
              "    }\n",
              "\n",
              "    [theme=dark] .colab-df-convert {\n",
              "      background-color: #3B4455;\n",
              "      fill: #D2E3FC;\n",
              "    }\n",
              "\n",
              "    [theme=dark] .colab-df-convert:hover {\n",
              "      background-color: #434B5C;\n",
              "      box-shadow: 0px 1px 3px 1px rgba(0, 0, 0, 0.15);\n",
              "      filter: drop-shadow(0px 1px 2px rgba(0, 0, 0, 0.3));\n",
              "      fill: #FFFFFF;\n",
              "    }\n",
              "  </style>\n",
              "\n",
              "      <script>\n",
              "        const buttonEl =\n",
              "          document.querySelector('#df-3dc4341a-66d8-47b4-b1b9-e5cb03fb0758 button.colab-df-convert');\n",
              "        buttonEl.style.display =\n",
              "          google.colab.kernel.accessAllowed ? 'block' : 'none';\n",
              "\n",
              "        async function convertToInteractive(key) {\n",
              "          const element = document.querySelector('#df-3dc4341a-66d8-47b4-b1b9-e5cb03fb0758');\n",
              "          const dataTable =\n",
              "            await google.colab.kernel.invokeFunction('convertToInteractive',\n",
              "                                                     [key], {});\n",
              "          if (!dataTable) return;\n",
              "\n",
              "          const docLinkHtml = 'Like what you see? Visit the ' +\n",
              "            '<a target=\"_blank\" href=https://colab.research.google.com/notebooks/data_table.ipynb>data table notebook</a>'\n",
              "            + ' to learn more about interactive tables.';\n",
              "          element.innerHTML = '';\n",
              "          dataTable['output_type'] = 'display_data';\n",
              "          await google.colab.output.renderOutput(dataTable, element);\n",
              "          const docLink = document.createElement('div');\n",
              "          docLink.innerHTML = docLinkHtml;\n",
              "          element.appendChild(docLink);\n",
              "        }\n",
              "      </script>\n",
              "    </div>\n",
              "  </div>\n",
              "  "
            ]
          },
          "metadata": {},
          "execution_count": 8
        }
      ],
      "source": [
        "distance_df = pd.DataFrame(cosine_sim, index=dfCopy2['id'], columns=dfCopy2['id'])\n",
        "distance_df.head(2)\n"
      ]
    },
    {
      "cell_type": "code",
      "execution_count": null,
      "metadata": {
        "id": "Q3Jg2cDv7qvZ"
      },
      "outputs": [],
      "source": [
        "mergeDf.to_csv('/content/drive/MyDrive/assets/movies.csv', index=False)"
      ]
    },
    {
      "cell_type": "code",
      "execution_count": null,
      "metadata": {
        "id": "IpezFyr9N_UG"
      },
      "outputs": [],
      "source": [
        "distance_df.to_csv('/content/drive/MyDrive/assets/distance.csv')\n"
      ]
    },
    {
      "cell_type": "code",
      "source": [
        "from google.colab import drive\n",
        "drive.mount('/content/drive')"
      ],
      "metadata": {
        "id": "3hroM_96KLbH",
        "colab": {
          "base_uri": "https://localhost:8080/"
        },
        "outputId": "e5fcf9dc-dfa2-4c9c-fd3a-bdd27c56c387"
      },
      "execution_count": null,
      "outputs": [
        {
          "output_type": "stream",
          "name": "stdout",
          "text": [
            "Mounted at /content/drive\n"
          ]
        }
      ]
    },
    {
      "cell_type": "markdown",
      "source": [],
      "metadata": {
        "id": "cxpZHvLWOEFb"
      }
    },
    {
      "cell_type": "markdown",
      "metadata": {
        "id": "CEP3sgOyZSR5"
      },
      "source": [
        "#Задача 4\n",
        "Мы прибыли и данные о фильмах, теперь перейдем к самой реализации сервиса. Его основа находится в папке src . Для начала необходимо настроить переменные окружения\n",
        "для проекта. В файле .envукажи путь к файлу distance.csvи movies.csv."
      ]
    },
    {
      "cell_type": "code",
      "execution_count": null,
      "metadata": {
        "id": "DGCytgU4ZYTA"
      },
      "outputs": [],
      "source": [
        "import colab_env"
      ]
    },
    {
      "cell_type": "code",
      "execution_count": null,
      "metadata": {
        "colab": {
          "base_uri": "https://localhost:8080/"
        },
        "id": "af0tV4N-bvOn",
        "outputId": "57c20fe9-744d-4d54-9f02-3754128a536e"
      },
      "outputs": [
        {
          "output_type": "stream",
          "name": "stdout",
          "text": [
            "Requirement already satisfied: colab-env in /usr/local/lib/python3.10/dist-packages (0.2.0)\n",
            "Requirement already satisfied: python-dotenv<1.0,>=0.10.0 in /usr/local/lib/python3.10/dist-packages (from colab-env) (0.21.1)\n"
          ]
        }
      ],
      "source": [
        "!pip install colab-env --upgrade"
      ]
    },
    {
      "cell_type": "code",
      "execution_count": null,
      "metadata": {
        "colab": {
          "base_uri": "https://localhost:8080/",
          "height": 35
        },
        "id": "6SFtdg2q5LCF",
        "outputId": "cdc7f755-f266-425c-a954-5bd66eeb5c20"
      },
      "outputs": [
        {
          "output_type": "execute_result",
          "data": {
            "text/plain": [
              "'0.2.0'"
            ],
            "application/vnd.google.colaboratory.intrinsic+json": {
              "type": "string"
            }
          },
          "metadata": {},
          "execution_count": 19
        }
      ],
      "source": [
        "colab_env.__version__"
      ]
    },
    {
      "cell_type": "code",
      "execution_count": null,
      "metadata": {
        "colab": {
          "base_uri": "https://localhost:8080/"
        },
        "id": "0Z0ssUvVvdE9",
        "outputId": "692b7119-880c-4798-e90d-2372ed62e7a6"
      },
      "outputs": [
        {
          "output_type": "stream",
          "name": "stdout",
          "text": [
            "more: stat of gdrive/My Drive/vars.env failed: Transport endpoint is not connected\n"
          ]
        }
      ],
      "source": [
        "!more gdrive/My\\ Drive/vars.env"
      ]
    },
    {
      "cell_type": "code",
      "execution_count": null,
      "metadata": {
        "id": "MyRKn41RZypn"
      },
      "outputs": [],
      "source": [
        "!pip install colab-env -qU\n",
        "from colab_env import envvar_handler"
      ]
    },
    {
      "cell_type": "code",
      "execution_count": null,
      "metadata": {
        "colab": {
          "base_uri": "https://localhost:8080/",
          "height": 35
        },
        "id": "4LMqPJ9i5OZo",
        "outputId": "40cce083-edce-4a94-d3a2-1f7a4f7f4358"
      },
      "outputs": [
        {
          "output_type": "execute_result",
          "data": {
            "text/plain": [
              "'DISTANCE'"
            ],
            "application/vnd.google.colaboratory.intrinsic+json": {
              "type": "string"
            }
          },
          "metadata": {},
          "execution_count": 28
        }
      ],
      "source": [
        "import os\n",
        "\n",
        "os.getenv(\"MOVIES\")"
      ]
    },
    {
      "cell_type": "code",
      "execution_count": null,
      "metadata": {
        "colab": {
          "base_uri": "https://localhost:8080/"
        },
        "id": "_D3PONuV_0P5",
        "outputId": "ddfdde3f-004c-4686-a6a6-8d271de95b26"
      },
      "outputs": [
        {
          "output_type": "stream",
          "name": "stdout",
          "text": [
            "Mounted at /content/gdrive\n"
          ]
        }
      ],
      "source": [
        "colab_env.RELOAD()"
      ]
    },
    {
      "cell_type": "markdown",
      "metadata": {
        "id": "p5ZuQ-y-a1C5"
      },
      "source": [
        "#Задача 5\n",
        "Перейдем к самой реализации. Допиши метод рекомендации , чтобы он возвращал самые близкие фильмы. Чтобы улучшить рекомендации хотелось бы реализовать механизм фильтрации фильмов. Перед тем, как найти самые похожие\n",
        "фильмы по описанию, фильмы должны проходить фильтрацию по пользовательским параметрам.\n",
        "Реализуй фильтрацию фильмов по жанрам (`genres`) и по ещё одному параметру на твое усмотрение (это может быть год\n",
        "производства, режиссер, рейтинг фильма и т.п).\n",
        "\n",
        ">"
      ]
    },
    {
      "cell_type": "code",
      "source": [
        "!pip install streamlit"
      ],
      "metadata": {
        "id": "lfcBj53Z2pui",
        "colab": {
          "base_uri": "https://localhost:8080/"
        },
        "outputId": "8e458bcb-1124-4b25-9234-a7b4ca998e36"
      },
      "execution_count": null,
      "outputs": [
        {
          "output_type": "stream",
          "name": "stdout",
          "text": [
            "Requirement already satisfied: streamlit in /usr/local/lib/python3.10/dist-packages (1.24.0)\n",
            "Requirement already satisfied: altair<6,>=4.0 in /usr/local/lib/python3.10/dist-packages (from streamlit) (4.2.2)\n",
            "Requirement already satisfied: blinker<2,>=1.0.0 in /usr/local/lib/python3.10/dist-packages (from streamlit) (1.6.2)\n",
            "Requirement already satisfied: cachetools<6,>=4.0 in /usr/local/lib/python3.10/dist-packages (from streamlit) (5.3.1)\n",
            "Requirement already satisfied: click<9,>=7.0 in /usr/local/lib/python3.10/dist-packages (from streamlit) (8.1.3)\n",
            "Requirement already satisfied: importlib-metadata<7,>=1.4 in /usr/local/lib/python3.10/dist-packages (from streamlit) (6.7.0)\n",
            "Requirement already satisfied: numpy<2,>=1 in /usr/local/lib/python3.10/dist-packages (from streamlit) (1.22.4)\n",
            "Requirement already satisfied: packaging<24,>=14.1 in /usr/local/lib/python3.10/dist-packages (from streamlit) (23.1)\n",
            "Requirement already satisfied: pandas<3,>=0.25 in /usr/local/lib/python3.10/dist-packages (from streamlit) (1.5.3)\n",
            "Requirement already satisfied: pillow<10,>=6.2.0 in /usr/local/lib/python3.10/dist-packages (from streamlit) (8.4.0)\n",
            "Requirement already satisfied: protobuf<5,>=3.20 in /usr/local/lib/python3.10/dist-packages (from streamlit) (3.20.3)\n",
            "Requirement already satisfied: pyarrow>=4.0 in /usr/local/lib/python3.10/dist-packages (from streamlit) (9.0.0)\n",
            "Requirement already satisfied: pympler<2,>=0.9 in /usr/local/lib/python3.10/dist-packages (from streamlit) (1.0.1)\n",
            "Requirement already satisfied: python-dateutil<3,>=2 in /usr/local/lib/python3.10/dist-packages (from streamlit) (2.8.2)\n",
            "Requirement already satisfied: requests<3,>=2.4 in /usr/local/lib/python3.10/dist-packages (from streamlit) (2.27.1)\n",
            "Requirement already satisfied: rich<14,>=10.11.0 in /usr/local/lib/python3.10/dist-packages (from streamlit) (13.4.2)\n",
            "Requirement already satisfied: tenacity<9,>=8.0.0 in /usr/local/lib/python3.10/dist-packages (from streamlit) (8.2.2)\n",
            "Requirement already satisfied: toml<2 in /usr/local/lib/python3.10/dist-packages (from streamlit) (0.10.2)\n",
            "Requirement already satisfied: typing-extensions<5,>=4.0.1 in /usr/local/lib/python3.10/dist-packages (from streamlit) (4.6.3)\n",
            "Requirement already satisfied: tzlocal<5,>=1.1 in /usr/local/lib/python3.10/dist-packages (from streamlit) (4.3.1)\n",
            "Requirement already satisfied: validators<1,>=0.2 in /usr/local/lib/python3.10/dist-packages (from streamlit) (0.20.0)\n",
            "Requirement already satisfied: gitpython!=3.1.19,<4,>=3 in /usr/local/lib/python3.10/dist-packages (from streamlit) (3.1.31)\n",
            "Requirement already satisfied: pydeck<1,>=0.1.dev5 in /usr/local/lib/python3.10/dist-packages (from streamlit) (0.8.1b0)\n",
            "Requirement already satisfied: tornado<7,>=6.0.3 in /usr/local/lib/python3.10/dist-packages (from streamlit) (6.3.1)\n",
            "Requirement already satisfied: watchdog in /usr/local/lib/python3.10/dist-packages (from streamlit) (3.0.0)\n",
            "Requirement already satisfied: entrypoints in /usr/local/lib/python3.10/dist-packages (from altair<6,>=4.0->streamlit) (0.4)\n",
            "Requirement already satisfied: jinja2 in /usr/local/lib/python3.10/dist-packages (from altair<6,>=4.0->streamlit) (3.1.2)\n",
            "Requirement already satisfied: jsonschema>=3.0 in /usr/local/lib/python3.10/dist-packages (from altair<6,>=4.0->streamlit) (4.3.3)\n",
            "Requirement already satisfied: toolz in /usr/local/lib/python3.10/dist-packages (from altair<6,>=4.0->streamlit) (0.12.0)\n",
            "Requirement already satisfied: gitdb<5,>=4.0.1 in /usr/local/lib/python3.10/dist-packages (from gitpython!=3.1.19,<4,>=3->streamlit) (4.0.10)\n",
            "Requirement already satisfied: zipp>=0.5 in /usr/local/lib/python3.10/dist-packages (from importlib-metadata<7,>=1.4->streamlit) (3.15.0)\n",
            "Requirement already satisfied: pytz>=2020.1 in /usr/local/lib/python3.10/dist-packages (from pandas<3,>=0.25->streamlit) (2022.7.1)\n",
            "Requirement already satisfied: six>=1.5 in /usr/local/lib/python3.10/dist-packages (from python-dateutil<3,>=2->streamlit) (1.16.0)\n",
            "Requirement already satisfied: urllib3<1.27,>=1.21.1 in /usr/local/lib/python3.10/dist-packages (from requests<3,>=2.4->streamlit) (1.26.16)\n",
            "Requirement already satisfied: certifi>=2017.4.17 in /usr/local/lib/python3.10/dist-packages (from requests<3,>=2.4->streamlit) (2023.5.7)\n",
            "Requirement already satisfied: charset-normalizer~=2.0.0 in /usr/local/lib/python3.10/dist-packages (from requests<3,>=2.4->streamlit) (2.0.12)\n",
            "Requirement already satisfied: idna<4,>=2.5 in /usr/local/lib/python3.10/dist-packages (from requests<3,>=2.4->streamlit) (3.4)\n",
            "Requirement already satisfied: markdown-it-py>=2.2.0 in /usr/local/lib/python3.10/dist-packages (from rich<14,>=10.11.0->streamlit) (3.0.0)\n",
            "Requirement already satisfied: pygments<3.0.0,>=2.13.0 in /usr/local/lib/python3.10/dist-packages (from rich<14,>=10.11.0->streamlit) (2.14.0)\n",
            "Requirement already satisfied: pytz-deprecation-shim in /usr/local/lib/python3.10/dist-packages (from tzlocal<5,>=1.1->streamlit) (0.1.0.post0)\n",
            "Requirement already satisfied: decorator>=3.4.0 in /usr/local/lib/python3.10/dist-packages (from validators<1,>=0.2->streamlit) (4.4.2)\n",
            "Requirement already satisfied: smmap<6,>=3.0.1 in /usr/local/lib/python3.10/dist-packages (from gitdb<5,>=4.0.1->gitpython!=3.1.19,<4,>=3->streamlit) (5.0.0)\n",
            "Requirement already satisfied: MarkupSafe>=2.0 in /usr/local/lib/python3.10/dist-packages (from jinja2->altair<6,>=4.0->streamlit) (2.1.3)\n",
            "Requirement already satisfied: attrs>=17.4.0 in /usr/local/lib/python3.10/dist-packages (from jsonschema>=3.0->altair<6,>=4.0->streamlit) (23.1.0)\n",
            "Requirement already satisfied: pyrsistent!=0.17.0,!=0.17.1,!=0.17.2,>=0.14.0 in /usr/local/lib/python3.10/dist-packages (from jsonschema>=3.0->altair<6,>=4.0->streamlit) (0.19.3)\n",
            "Requirement already satisfied: mdurl~=0.1 in /usr/local/lib/python3.10/dist-packages (from markdown-it-py>=2.2.0->rich<14,>=10.11.0->streamlit) (0.1.2)\n",
            "Requirement already satisfied: tzdata in /usr/local/lib/python3.10/dist-packages (from pytz-deprecation-shim->tzlocal<5,>=1.1->streamlit) (2023.3)\n"
          ]
        }
      ]
    },
    {
      "cell_type": "code",
      "execution_count": null,
      "metadata": {
        "colab": {
          "base_uri": "https://localhost:8080/"
        },
        "id": "t7nY-CP2Diky",
        "outputId": "7a78dfee-f5f0-41fd-d18b-6378bbcc540b"
      },
      "outputs": [
        {
          "output_type": "stream",
          "name": "stdout",
          "text": [
            "Requirement already satisfied: pyngrok in /usr/local/lib/python3.10/dist-packages (6.0.0)\n",
            "Requirement already satisfied: PyYAML in /usr/local/lib/python3.10/dist-packages (from pyngrok) (6.0)\n"
          ]
        }
      ],
      "source": [
        "!pip install pyngrok"
      ]
    },
    {
      "cell_type": "markdown",
      "metadata": {
        "id": "nHjjxEsFgoeo"
      },
      "source": []
    },
    {
      "cell_type": "code",
      "execution_count": null,
      "metadata": {
        "id": "unllNRwaHuge"
      },
      "outputs": [],
      "source": [
        "import os\n",
        "import streamlit as st\n",
        "from dotenv import load_dotenv\n",
        "from pathlib import Path\n",
        "from dotenv import load_dotenv\n",
        "from typing import List, Set, Optional, Any\n",
        "from typing import List, Set, Optional, Any"
      ]
    },
    {
      "cell_type": "code",
      "execution_count": null,
      "metadata": {
        "id": "xdm6n_HvSs9l"
      },
      "outputs": [],
      "source": [
        "from numpy.core.fromnumeric import searchsorted"
      ]
    },
    {
      "cell_type": "code",
      "execution_count": null,
      "metadata": {
        "id": "0Ci_CsCSMmtr"
      },
      "outputs": [],
      "source": [
        "from PIL import Image"
      ]
    },
    {
      "cell_type": "code",
      "execution_count": null,
      "metadata": {
        "colab": {
          "base_uri": "https://localhost:8080/"
        },
        "outputId": "34f38001-d548-4c07-b98c-3388385f0856",
        "id": "P33ApROXCR5x"
      },
      "outputs": [
        {
          "output_type": "stream",
          "name": "stdout",
          "text": [
            "Writing app.py\n"
          ]
        }
      ],
      "source": [
        "%%writefile app.py\n",
        "import streamlit as st\n",
        "import streamlit.components.v1 as stc\n",
        "\n",
        "import pandas as pd\n",
        "\n",
        "HTML_BANNER = \"\"\"\n",
        "    <div style=\"background-color:#464e5f;padding:10px;border-radius:10px\">\n",
        "    <h1 style=\"color:white;text-align:center;\">Рекомендация фильмов</h1>\n",
        "    </div>\n",
        "    \"\"\"\n",
        "\n",
        "\n",
        "def main():\n",
        "\t\"\"\"Basics on st.columns/layout\"\"\"\n",
        "\n",
        "\tmenu = [\"Home\",\"Search\",\"About\"]\n",
        "\tchoice = st.sidebar.selectbox(\"Menu\",menu)\n",
        "\tstc.html(HTML_BANNER)\n",
        "\n",
        "\tdf = pd.read_csv(\"\")\n",
        "\t Change Year to Datetime\n",
        "\tdf['year'] = pd.to_datetime(df['year'])\n",
        "\n",
        "\n",
        "\tif choice == 'Home':\n",
        "\t\tst.subheader(\"Home\")\n",
        "\n",
        "\n",
        "\t\t with st.expander(\"Title\"):\n",
        "\t\t\tmytext = st.text_area(\"Type Here\")\n",
        "\t\t\tst.write(mytext)\n",
        "\t\t \tst.success(\"Hello\")\n",
        "\n",
        "\n",
        "\t\t st.dataframe(df)\n",
        "\t\tmovies_title_list = df['title'].tolist()\n",
        "\n",
        "\t\tmovie_choice = st.selectbox(\"Movie Title\",movies_title_list)\n",
        "\t\twith st.expander('Movies DF',expanded=False):\n",
        "\t\t\tst.dataframe(df.head(6))\n",
        "\n",
        "\n",
        "\t\t\timg_link = df[df['title'] == movie_choice]['img_link'].values[0]\n",
        "\t\t\ttitle = df[df['title']== movie_choice]['title'].values\n",
        "\t\t\tgenre = df[df['title']== movie_choice]['genres'].values\n",
        "\n",
        "\n",
        "\n",
        "\t\t\t st.write(img_link)\n",
        "\t\t\t st.image(img_link)\n",
        "\t  c1,c2,c3 = st.columns([1,2,1])\n",
        "\n",
        "\t\twith c1:\n",
        "\t\t\twith st.expander(\"Title\"):\n",
        "\t\t\t\tst.success(title)\n",
        "\n",
        "\n",
        "\t\twith c2:\n",
        "\t\t\twith st.expander(\"Image\"):\n",
        "\t\t\t\tst.image(img_link,use_column_with=True)\n",
        "\n",
        "\n",
        "\t\twith c3:\n",
        "\t\t\twith st.expander(\"Genre\"):\n",
        "\t\t\t\tst.write(genre)\n",
        "\n",
        "\n",
        "\n",
        "\n",
        "\telif choice == \"Search\":\n",
        "\t\tst.subheader(\"Search Movies\")\n",
        "\n",
        "\t\twith st.expander(\"Search By Year\"):\n",
        "\t\t\tmovie_year = st.number_input(\"Year\",2020,2022)\n",
        "\n",
        "\t\t\tdf_for_year = df[df['year'].dt.year == movie_year]\n",
        "\t\t\tst.dataframe(df_for_year)\n",
        "\n",
        "\t\tcol1,col2,col3  = st.columns([1,2,1])\n",
        "\n",
        "\t\twith col1:\n",
        "\t\t\twith st.expander(\"Title\"):\n",
        "\t\t\t\tfor t in df_for_year['title'].tolist():\n",
        "\t\t\t\t\tst.success(t)\n",
        "\n",
        "\n",
        "\t\twith col2:\n",
        "\t\t\twith st.expander(\"Images\"):\n",
        "\t\t\t\tfor i in df_for_year['img_link'].tolist():\n",
        "\t\t\t\t st.image(i,use_column_with=True)\n",
        "\n",
        "\n",
        "\t\twith col3:\n",
        "\t\t\twith st.expander(\"Genre\"):\n",
        "\t\t\t\tfor g in df_for_year['genres'].tolist():\n",
        "\t\t\t\t\tst.write(g)\n",
        "\n",
        "\n",
        "\telse:\n",
        "\t\tst.subheader(\"About\")\n",
        "\t\tst.text(\"Built with Streamlit\")\n",
        "\t\tst.text(\"Елена\")\n",
        "\n",
        "\n",
        "\n",
        "if __name__ == '__main__':\n",
        "\tmain()\n",
        "\n"
      ]
    },
    {
      "cell_type": "code",
      "execution_count": null,
      "metadata": {
        "id": "NXqUBLsoVHi5"
      },
      "outputs": [],
      "source": [
        "def recommend(movie):\n",
        "\n",
        "\n",
        "    movie_index = dfCopy2[dfCopy2['title']==movie].index[0]\n",
        "    distances = similarity[movie_index]\n",
        "    movies_list = sorted(list(enumerate(distances)),reverse=True,key=lambda x:x[1])[1:6]\n",
        "\n",
        "\n",
        "\n",
        "    for i in movies_list:\n",
        "        print(dfCopy2.iloc[i[0]].title)"
      ]
    },
    {
      "cell_type": "code",
      "execution_count": null,
      "metadata": {
        "colab": {
          "base_uri": "https://localhost:8080/"
        },
        "id": "4h0_ObELmLVD",
        "outputId": "951ca30e-724e-4b28-87cb-200fb1aa9ea6"
      },
      "outputs": [
        {
          "output_type": "stream",
          "name": "stdout",
          "text": [
            "app.py\tfinal_movielens_500_db.csv  sample_data\t\t   tmdb_5000_movies.csv\n",
            "drive\tgdrive\t\t\t    tmdb_5000_credits.csv\n"
          ]
        }
      ],
      "source": [
        "!ls"
      ]
    },
    {
      "cell_type": "code",
      "execution_count": null,
      "metadata": {
        "colab": {
          "base_uri": "https://localhost:8080/"
        },
        "id": "QaHTtSRgh6MN",
        "outputId": "39115215-aafa-4cc9-d8d3-b405de4080ca"
      },
      "outputs": [
        {
          "output_type": "stream",
          "name": "stdout",
          "text": [
            "Authtoken saved to configuration file: /root/.ngrok2/ngrok.yml\n"
          ]
        }
      ],
      "source": [
        "!ngrok authtoken [TOKEN]"
      ]
    },
    {
      "cell_type": "code",
      "execution_count": null,
      "metadata": {
        "colab": {
          "base_uri": "https://localhost:8080/"
        },
        "id": "7j6Up6r4iuue",
        "outputId": "9d48fa3c-5343-42f6-8258-ec50600643a5"
      },
      "outputs": [
        {
          "output_type": "stream",
          "name": "stdout",
          "text": [
            "--2023-07-04 15:29:16--  https://bin.equinox.io/c/4VmDzA7iaHb/ngrok-stable-linux-amd64.zip\n",
            "Resolving bin.equinox.io (bin.equinox.io)... 54.161.241.46, 18.205.222.128, 54.237.133.81, ...\n",
            "Connecting to bin.equinox.io (bin.equinox.io)|54.161.241.46|:443... connected.\n",
            "HTTP request sent, awaiting response... 200 OK\n",
            "Length: 13921656 (13M) [application/octet-stream]\n",
            "Saving to: ‘ngrok-stable-linux-amd64.zip.10’\n",
            "\n",
            "ngrok-stable-linux- 100%[===================>]  13.28M  54.0MB/s    in 0.2s    \n",
            "\n",
            "2023-07-04 15:29:17 (54.0 MB/s) - ‘ngrok-stable-linux-amd64.zip.10’ saved [13921656/13921656]\n",
            "\n"
          ]
        }
      ],
      "source": [
        "!wget https://bin.equinox.io/c/4VmDzA7iaHb/ngrok-stable-linux-amd64.zip"
      ]
    },
    {
      "cell_type": "code",
      "execution_count": null,
      "metadata": {
        "colab": {
          "base_uri": "https://localhost:8080/"
        },
        "id": "_adgDhfsjqLM",
        "outputId": "f380b9a5-3df2-44b2-be70-c60cd7faf00d"
      },
      "outputs": [
        {
          "output_type": "stream",
          "name": "stdout",
          "text": [
            "Archive:  ngrok-stable-linux-amd64.zip\n",
            "replace ngrok? [y]es, [n]o, [A]ll, [N]one, [r]ename: "
          ]
        }
      ],
      "source": [
        "!unzip ngrok-stable-linux-amd64.zip"
      ]
    },
    {
      "cell_type": "code",
      "execution_count": null,
      "metadata": {
        "id": "-ez9cZC7j2SJ"
      },
      "outputs": [],
      "source": [
        "get_ipython().system_raw('./ngrok http 8501 &')"
      ]
    },
    {
      "cell_type": "code",
      "execution_count": null,
      "metadata": {
        "colab": {
          "base_uri": "https://localhost:8080/"
        },
        "id": "I7WMC4ebkpLY",
        "outputId": "2432dbdb-61bd-479e-b5e5-7de99e5bca6e"
      },
      "outputs": [
        {
          "output_type": "stream",
          "name": "stdout",
          "text": [
            "https://e88f-35-196-222-80.ngrok-free.app\n"
          ]
        }
      ],
      "source": [
        "from sys import stdin\n",
        "! curl -s http://localhost:4040/api/tunnels | python3 -c \\\n",
        "\"import sys, json; print (json.load(sys.stdin)['tunnels'][0]['public_url'])\""
      ]
    },
    {
      "cell_type": "code",
      "execution_count": null,
      "metadata": {
        "colab": {
          "base_uri": "https://localhost:8080/"
        },
        "id": "dXoaRAq6kqwx",
        "outputId": "b699ba7b-9f65-48b0-eb47-416da246a254"
      },
      "outputs": [
        {
          "output_type": "stream",
          "name": "stdout",
          "text": [
            "\n",
            "Collecting usage statistics. To deactivate, set browser.gatherUsageStats to False.\n",
            "\u001b[0m\n",
            "\u001b[0m\n",
            "\u001b[34m\u001b[1m  You can now view your Streamlit app in your browser.\u001b[0m\n",
            "\u001b[0m\n",
            "\u001b[34m  Network URL: \u001b[0m\u001b[1mhttp://172.28.0.12:8501\u001b[0m\n",
            "\u001b[34m  External URL: \u001b[0m\u001b[1mhttp://35.196.222.80:8501\u001b[0m\n",
            "\u001b[0m\n",
            "\u001b[34m  Stopping...\u001b[0m\n",
            "\u001b[34m  Stopping...\u001b[0m\n"
          ]
        }
      ],
      "source": [
        "!streamlit run /content/app.py"
      ]
    },
    {
      "cell_type": "code",
      "execution_count": null,
      "metadata": {
        "id": "tARusHTrkqzG"
      },
      "outputs": [],
      "source": []
    }
  ],
  "metadata": {
    "colab": {
      "provenance": []
    },
    "kernelspec": {
      "display_name": "Python 3",
      "name": "python3"
    },
    "language_info": {
      "name": "python"
    }
  },
  "nbformat": 4,
  "nbformat_minor": 0
}